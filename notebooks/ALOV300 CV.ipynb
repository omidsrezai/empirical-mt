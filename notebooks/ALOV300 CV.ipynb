{
 "cells": [
  {
   "cell_type": "code",
   "execution_count": 73,
   "metadata": {},
   "outputs": [],
   "source": [
    "import sys\n",
    "sys.path.insert(0, '/home/ading/dev/empirical-mt')\n",
    "\n",
    "import matplotlib.pyplot as plt\n",
    "\n",
    "from pelic.gabors import makeGabors, makeGaussian\n",
    "from pelic.calculate_contrast import CalculateContrast\n",
    "\n",
    "import pandas as pd\n",
    "\n",
    "from tqdm import tqdm \n",
    "\n",
    "from tuning import DirectionTuning, SpeedTuning, DisparityTuning\n",
    "\n",
    "import numpy as np\n",
    "\n",
    "from skimage import io, transform, util, img_as_float, img_as_ubyte\n",
    "from skimage.color import rgb2gray, gray2rgb\n",
    "from skimage.transform import resize\n",
    "import skimage.draw as draw\n",
    "\n",
    "import scipy.io as sio\n",
    "\n",
    "import MT\n",
    "\n",
    "from keras.layers import Input, Dense, Concatenate, Multiply\n",
    "from keras.models import Model\n",
    "\n",
    "size_ = 101\n",
    "gabors = makeGabors(size_, center=None)\n",
    "gaussian = makeGaussian(size_, sigma=5, center=None)\n",
    "\n",
    "contrast_calculator = CalculateContrast(gabors, gaussian)\n",
    "\n",
    "import tensorflow as tf\n",
    "\n",
    "from os import listdir\n",
    "from os.path import isfile, join, split, isdir, basename\n",
    "\n",
    "from scipy import stats\n",
    "\n",
    "import cv2"
   ]
  },
  {
   "cell_type": "code",
   "execution_count": 74,
   "metadata": {},
   "outputs": [],
   "source": [
    "d = '../data/alov300++/pairwise_train_frac1_size76_ratio0.5_grayscale'\n",
    "\n",
    "df2 = pd.read_json('../data/alov300++/pairwise_test_frac1_size76_ratio0.5_grayscale/index.json')"
   ]
  },
  {
   "cell_type": "code",
   "execution_count": 75,
   "metadata": {},
   "outputs": [],
   "source": [
    "df2['offset'] = df2.apply(lambda r: (np.array(r['box2']) - np.array(r['box1'])), axis = 1) "
   ]
  },
  {
   "cell_type": "code",
   "execution_count": 76,
   "metadata": {},
   "outputs": [],
   "source": [
    "o = np.stack(df2['offset'].values, axis=0)"
   ]
  },
  {
   "cell_type": "code",
   "execution_count": 77,
   "metadata": {},
   "outputs": [
    {
     "data": {
      "text/plain": [
       "(2688, 2, 2)"
      ]
     },
     "execution_count": 77,
     "metadata": {},
     "output_type": "execute_result"
    }
   ],
   "source": [
    "o.shape"
   ]
  },
  {
   "cell_type": "code",
   "execution_count": 78,
   "metadata": {},
   "outputs": [
    {
     "data": {
      "text/plain": [
       "0.043609871031746031"
      ]
     },
     "execution_count": 78,
     "metadata": {},
     "output_type": "execute_result"
    }
   ],
   "source": [
    "np.mean(np.abs(o)) / (76 - 1)"
   ]
  },
  {
   "cell_type": "code",
   "execution_count": 79,
   "metadata": {},
   "outputs": [],
   "source": [
    "p = np.load('../visual_tracking/bin/predictions.npy')"
   ]
  },
  {
   "cell_type": "code",
   "execution_count": 80,
   "metadata": {},
   "outputs": [
    {
     "data": {
      "text/plain": [
       "(2688, 2, 2)"
      ]
     },
     "execution_count": 80,
     "metadata": {},
     "output_type": "execute_result"
    }
   ],
   "source": [
    "box2 = np.stack(df2['box2'].values, axis=0)\n",
    "\n",
    "box2.shape"
   ]
  },
  {
   "cell_type": "code",
   "execution_count": 81,
   "metadata": {},
   "outputs": [
    {
     "data": {
      "text/plain": [
       "0.061247355793233191"
      ]
     },
     "execution_count": 81,
     "metadata": {},
     "output_type": "execute_result"
    }
   ],
   "source": [
    "np.mean(np.abs(p - box2)) / (76 - 1)"
   ]
  },
  {
   "cell_type": "code",
   "execution_count": 82,
   "metadata": {},
   "outputs": [],
   "source": [
    "df2['p'] = pd.Series(list(p), index=df2.index)"
   ]
  },
  {
   "cell_type": "code",
   "execution_count": 83,
   "metadata": {},
   "outputs": [
    {
     "data": {
      "text/html": [
       "<div>\n",
       "<style scoped>\n",
       "    .dataframe tbody tr th:only-of-type {\n",
       "        vertical-align: middle;\n",
       "    }\n",
       "\n",
       "    .dataframe tbody tr th {\n",
       "        vertical-align: top;\n",
       "    }\n",
       "\n",
       "    .dataframe thead th {\n",
       "        text-align: right;\n",
       "    }\n",
       "</style>\n",
       "<table border=\"1\" class=\"dataframe\">\n",
       "  <thead>\n",
       "    <tr style=\"text-align: right;\">\n",
       "      <th></th>\n",
       "      <th>box1</th>\n",
       "      <th>box2</th>\n",
       "      <th>feature_dir</th>\n",
       "      <th>frame_id</th>\n",
       "      <th>video_category</th>\n",
       "      <th>video_id</th>\n",
       "      <th>offset</th>\n",
       "      <th>p</th>\n",
       "    </tr>\n",
       "  </thead>\n",
       "  <tbody>\n",
       "    <tr>\n",
       "      <th>0</th>\n",
       "      <td>[[19, 25], [57, 51]]</td>\n",
       "      <td>[[19, 26], [57, 52]]</td>\n",
       "      <td>12-MovingCamera_video00013/00000136</td>\n",
       "      <td>136</td>\n",
       "      <td>movingcamera</td>\n",
       "      <td>12-MovingCamera_video00013</td>\n",
       "      <td>[[0, 1], [0, 1]]</td>\n",
       "      <td>[[21.5893, 23.7187], [57.6549, 51.422]]</td>\n",
       "    </tr>\n",
       "    <tr>\n",
       "      <th>1</th>\n",
       "      <td>[[19, 30], [57, 46]]</td>\n",
       "      <td>[[15, 34], [53, 49]]</td>\n",
       "      <td>09-Confusion_video00033/00000254</td>\n",
       "      <td>254</td>\n",
       "      <td>confusion</td>\n",
       "      <td>09-Confusion_video00033</td>\n",
       "      <td>[[-4, 4], [-4, 3]]</td>\n",
       "      <td>[[17.8001, 28.4032], [54.8346, 46.5332]]</td>\n",
       "    </tr>\n",
       "    <tr>\n",
       "      <th>2</th>\n",
       "      <td>[[25, 19], [51, 57]]</td>\n",
       "      <td>[[27, 22], [53, 59]]</td>\n",
       "      <td>14-LongDuration_video00003/00002196</td>\n",
       "      <td>2196</td>\n",
       "      <td>longduration</td>\n",
       "      <td>14-LongDuration_video00003</td>\n",
       "      <td>[[2, 3], [2, 2]]</td>\n",
       "      <td>[[25.8833, 15.4844], [51.5447, 51.5263]]</td>\n",
       "    </tr>\n",
       "    <tr>\n",
       "      <th>3</th>\n",
       "      <td>[[20, 27], [57, 49]]</td>\n",
       "      <td>[[20, 27], [57, 49]]</td>\n",
       "      <td>11-Occlusion_video00025/00000754</td>\n",
       "      <td>754</td>\n",
       "      <td>occlusion</td>\n",
       "      <td>11-Occlusion_video00025</td>\n",
       "      <td>[[0, 0], [0, 0]]</td>\n",
       "      <td>[[20.8309, 25.674], [57.3276, 47.6402]]</td>\n",
       "    </tr>\n",
       "    <tr>\n",
       "      <th>4</th>\n",
       "      <td>[[32, 20], [44, 57]]</td>\n",
       "      <td>[[32, 20], [44, 57]]</td>\n",
       "      <td>14-LongDuration_video00004/00000591</td>\n",
       "      <td>591</td>\n",
       "      <td>longduration</td>\n",
       "      <td>14-LongDuration_video00004</td>\n",
       "      <td>[[0, 0], [0, 0]]</td>\n",
       "      <td>[[32.9993, 18.9148], [44.5026, 56.4649]]</td>\n",
       "    </tr>\n",
       "  </tbody>\n",
       "</table>\n",
       "</div>"
      ],
      "text/plain": [
       "                   box1                  box2  \\\n",
       "0  [[19, 25], [57, 51]]  [[19, 26], [57, 52]]   \n",
       "1  [[19, 30], [57, 46]]  [[15, 34], [53, 49]]   \n",
       "2  [[25, 19], [51, 57]]  [[27, 22], [53, 59]]   \n",
       "3  [[20, 27], [57, 49]]  [[20, 27], [57, 49]]   \n",
       "4  [[32, 20], [44, 57]]  [[32, 20], [44, 57]]   \n",
       "\n",
       "                           feature_dir  frame_id video_category  \\\n",
       "0  12-MovingCamera_video00013/00000136       136   movingcamera   \n",
       "1     09-Confusion_video00033/00000254       254      confusion   \n",
       "2  14-LongDuration_video00003/00002196      2196   longduration   \n",
       "3     11-Occlusion_video00025/00000754       754      occlusion   \n",
       "4  14-LongDuration_video00004/00000591       591   longduration   \n",
       "\n",
       "                     video_id              offset  \\\n",
       "0  12-MovingCamera_video00013    [[0, 1], [0, 1]]   \n",
       "1     09-Confusion_video00033  [[-4, 4], [-4, 3]]   \n",
       "2  14-LongDuration_video00003    [[2, 3], [2, 2]]   \n",
       "3     11-Occlusion_video00025    [[0, 0], [0, 0]]   \n",
       "4  14-LongDuration_video00004    [[0, 0], [0, 0]]   \n",
       "\n",
       "                                          p  \n",
       "0   [[21.5893, 23.7187], [57.6549, 51.422]]  \n",
       "1  [[17.8001, 28.4032], [54.8346, 46.5332]]  \n",
       "2  [[25.8833, 15.4844], [51.5447, 51.5263]]  \n",
       "3   [[20.8309, 25.674], [57.3276, 47.6402]]  \n",
       "4  [[32.9993, 18.9148], [44.5026, 56.4649]]  "
      ]
     },
     "execution_count": 83,
     "metadata": {},
     "output_type": "execute_result"
    }
   ],
   "source": [
    "df2.head()"
   ]
  },
  {
   "cell_type": "code",
   "execution_count": null,
   "metadata": {},
   "outputs": [],
   "source": [
    "d = '../data/alov300++/pairwise_test_frac1_size76_ratio0.5_grayscale'"
   ]
  },
  {
   "cell_type": "code",
   "execution_count": null,
   "metadata": {
    "scrolled": false
   },
   "outputs": [],
   "source": [
    "for _, r in df2.iterrows():\n",
    "    plt.figure(figsize=(20, 20))\n",
    "    \n",
    "    # print(r['feature_dir'])\n",
    "    \n",
    "    f1_path = join(d, r['feature_dir'], 'prev_frame.png')\n",
    "    f2_path = join(d, r['feature_dir'], 'frame.png')\n",
    "    \n",
    "    # f1\n",
    "    f1 = gray2rgb(img_as_float(io.imread(f1_path)))\n",
    "    rr, cc = draw.rectangle(r['box1'][0], r['box1'][1])\n",
    "    f1[rr, cc, 0] = 1\n",
    "    plt.subplot(1, 2, 1)\n",
    "    io.imshow(f1)\n",
    "    \n",
    "    # f2\n",
    "    f2 = gray2rgb(img_as_float(io.imread(f2_path)))\n",
    "    rr, cc = draw.rectangle(r['box2'][0], r['box2'][1])\n",
    "    #f2[rr, cc, 1] = 1\n",
    "    \n",
    "    rr, cc = draw.rectangle(r['p'][0].astype(np.int), r['p'][1].astype(np.int))\n",
    "    f2[rr, cc, 0] = 1\n",
    "    \n",
    "    plt.subplot(1, 2, 2)\n",
    "    io.imshow(f2)\n",
    "    \n",
    "    plt.show()\n",
    "    "
   ]
  },
  {
   "cell_type": "code",
   "execution_count": 32,
   "metadata": {},
   "outputs": [
    {
     "data": {
      "text/html": [
       "<div>\n",
       "<style scoped>\n",
       "    .dataframe tbody tr th:only-of-type {\n",
       "        vertical-align: middle;\n",
       "    }\n",
       "\n",
       "    .dataframe tbody tr th {\n",
       "        vertical-align: top;\n",
       "    }\n",
       "\n",
       "    .dataframe thead th {\n",
       "        text-align: right;\n",
       "    }\n",
       "</style>\n",
       "<table border=\"1\" class=\"dataframe\">\n",
       "  <thead>\n",
       "    <tr style=\"text-align: right;\">\n",
       "      <th></th>\n",
       "      <th>box1</th>\n",
       "      <th>box2</th>\n",
       "      <th>feature_dir</th>\n",
       "      <th>frame_id</th>\n",
       "      <th>video_category</th>\n",
       "      <th>video_id</th>\n",
       "    </tr>\n",
       "  </thead>\n",
       "  <tbody>\n",
       "    <tr>\n",
       "      <th>0</th>\n",
       "      <td>[[19, 25], [57, 51]]</td>\n",
       "      <td>[[19, 26], [57, 52]]</td>\n",
       "      <td>12-MovingCamera_video00013/00000136</td>\n",
       "      <td>136</td>\n",
       "      <td>movingcamera</td>\n",
       "      <td>12-MovingCamera_video00013</td>\n",
       "    </tr>\n",
       "    <tr>\n",
       "      <th>1</th>\n",
       "      <td>[[19, 30], [57, 46]]</td>\n",
       "      <td>[[15, 34], [53, 49]]</td>\n",
       "      <td>09-Confusion_video00033/00000254</td>\n",
       "      <td>254</td>\n",
       "      <td>confusion</td>\n",
       "      <td>09-Confusion_video00033</td>\n",
       "    </tr>\n",
       "    <tr>\n",
       "      <th>2</th>\n",
       "      <td>[[25, 19], [51, 57]]</td>\n",
       "      <td>[[27, 22], [53, 59]]</td>\n",
       "      <td>14-LongDuration_video00003/00002196</td>\n",
       "      <td>2196</td>\n",
       "      <td>longduration</td>\n",
       "      <td>14-LongDuration_video00003</td>\n",
       "    </tr>\n",
       "    <tr>\n",
       "      <th>3</th>\n",
       "      <td>[[20, 27], [57, 49]]</td>\n",
       "      <td>[[20, 27], [57, 49]]</td>\n",
       "      <td>11-Occlusion_video00025/00000754</td>\n",
       "      <td>754</td>\n",
       "      <td>occlusion</td>\n",
       "      <td>11-Occlusion_video00025</td>\n",
       "    </tr>\n",
       "    <tr>\n",
       "      <th>4</th>\n",
       "      <td>[[32, 20], [44, 57]]</td>\n",
       "      <td>[[32, 20], [44, 57]]</td>\n",
       "      <td>14-LongDuration_video00004/00000591</td>\n",
       "      <td>591</td>\n",
       "      <td>longduration</td>\n",
       "      <td>14-LongDuration_video00004</td>\n",
       "    </tr>\n",
       "  </tbody>\n",
       "</table>\n",
       "</div>"
      ],
      "text/plain": [
       "                   box1                  box2  \\\n",
       "0  [[19, 25], [57, 51]]  [[19, 26], [57, 52]]   \n",
       "1  [[19, 30], [57, 46]]  [[15, 34], [53, 49]]   \n",
       "2  [[25, 19], [51, 57]]  [[27, 22], [53, 59]]   \n",
       "3  [[20, 27], [57, 49]]  [[20, 27], [57, 49]]   \n",
       "4  [[32, 20], [44, 57]]  [[32, 20], [44, 57]]   \n",
       "\n",
       "                           feature_dir  frame_id video_category  \\\n",
       "0  12-MovingCamera_video00013/00000136       136   movingcamera   \n",
       "1     09-Confusion_video00033/00000254       254      confusion   \n",
       "2  14-LongDuration_video00003/00002196      2196   longduration   \n",
       "3     11-Occlusion_video00025/00000754       754      occlusion   \n",
       "4  14-LongDuration_video00004/00000591       591   longduration   \n",
       "\n",
       "                     video_id  \n",
       "0  12-MovingCamera_video00013  \n",
       "1     09-Confusion_video00033  \n",
       "2  14-LongDuration_video00003  \n",
       "3     11-Occlusion_video00025  \n",
       "4  14-LongDuration_video00004  "
      ]
     },
     "execution_count": 32,
     "metadata": {},
     "output_type": "execute_result"
    }
   ],
   "source": [
    "df2.head()"
   ]
  },
  {
   "cell_type": "code",
   "execution_count": 45,
   "metadata": {},
   "outputs": [],
   "source": [
    "d = '../data/alov300++/pairwise_test_frac1_size76_ratio0.5_grayscale'\n",
    "\n",
    "def flow(r):\n",
    "    #print(opf_filepath)\n",
    "    prev_frame_filepath = join(d, r['feature_dir'], 'prev_frame.png')\n",
    "    frame_filepath = join(d, r['feature_dir'], 'frame.png')\n",
    "    \n",
    "    prev_frame = io.imread(prev_frame_filepath, as_gray=True)\n",
    "    frame = io.imread(frame_filepath, as_gray=True)\n",
    "\n",
    "    # calculate optic flow using Farneback\n",
    "    prev_frame_u8 = img_as_ubyte(prev_frame)\n",
    "    frame_u8 = img_as_ubyte(frame)\n",
    "    opt_flow_farneback = cv2.calcOpticalFlowFarneback(prev_frame_u8, frame_u8, flow=None, pyr_scale=0.5, levels=3, winsize=15, iterations=3, poly_n=5, poly_sigma=1.1, flags=0)\n",
    "    h = opt_flow_farneback[:, :, 1]\n",
    "    v = opt_flow_farneback[:, :, 0]\n",
    "    \n",
    "    speed = np.sqrt(np.square(h) + np.square(v))\n",
    "  \n",
    "    \n",
    "    return pd.Series({'speed': speed})"
   ]
  },
  {
   "cell_type": "code",
   "execution_count": 51,
   "metadata": {},
   "outputs": [],
   "source": [
    "f = df2.sample(frac=1).apply(flow, axis=1)"
   ]
  },
  {
   "cell_type": "code",
   "execution_count": 53,
   "metadata": {},
   "outputs": [],
   "source": [
    "fs = np.stack(f['speed'].values, axis=0)"
   ]
  },
  {
   "cell_type": "code",
   "execution_count": 57,
   "metadata": {},
   "outputs": [
    {
     "data": {
      "text/plain": [
       "array([  8.75358605e-11,   6.04182260e-10,   1.64226788e-09, ...,\n",
       "         5.31592241e-06,   3.08563449e-06,   2.47338244e-06], dtype=float32)"
      ]
     },
     "execution_count": 57,
     "metadata": {},
     "output_type": "execute_result"
    }
   ],
   "source": [
    "fs.flatten()"
   ]
  },
  {
   "cell_type": "code",
   "execution_count": 63,
   "metadata": {},
   "outputs": [],
   "source": [
    "s = pd.Series(fs.flatten())"
   ]
  },
  {
   "cell_type": "code",
   "execution_count": 65,
   "metadata": {},
   "outputs": [
    {
     "data": {
      "text/plain": [
       "count    1.552589e+07\n",
       "mean     2.245123e+00\n",
       "std      3.234418e+00\n",
       "min      0.000000e+00\n",
       "25%      1.851883e-01\n",
       "50%      1.232003e+00\n",
       "75%      3.492994e+00\n",
       "max      5.973970e+02\n",
       "dtype: float64"
      ]
     },
     "execution_count": 65,
     "metadata": {},
     "output_type": "execute_result"
    }
   ],
   "source": [
    "s.describe()"
   ]
  },
  {
   "cell_type": "code",
   "execution_count": 72,
   "metadata": {},
   "outputs": [
    {
     "data": {
      "text/plain": [
       "7.394679355621335"
      ]
     },
     "execution_count": 72,
     "metadata": {},
     "output_type": "execute_result"
    }
   ],
   "source": [
    "np.percentile(s, 95)"
   ]
  },
  {
   "cell_type": "code",
   "execution_count": 86,
   "metadata": {},
   "outputs": [
    {
     "data": {
      "image/png": "[encoded data removed]",
      "text/plain": [
       "<matplotlib.figure.Figure at 0x7fe1d42a7ed0>"
      ]
     },
     "metadata": {},
     "output_type": "display_data"
    }
   ],
   "source": [
    "plt.figure(figsize=(20, 20))\n",
    "\n",
    "plt.hist(s, bins=100, log=False)\n",
    "\n",
    "plt.show()"
   ]
  },
  {
   "cell_type": "code",
   "execution_count": 85,
   "metadata": {},
   "outputs": [
    {
     "data": {
      "text/plain": [
       "4096"
      ]
     },
     "execution_count": 85,
     "metadata": {},
     "output_type": "execute_result"
    }
   ],
   "source": [
    "8 * 8 * 64"
   ]
  }
 ],
 "metadata": {
  "kernelspec": {
   "display_name": "Python 2",
   "language": "python",
   "name": "python2"
  },
  "language_info": {
   "codemirror_mode": {
    "name": "ipython",
    "version": 2
   },
   "file_extension": ".py",
   "mimetype": "text/x-python",
   "name": "python",
   "nbconvert_exporter": "python",
   "pygments_lexer": "ipython2",
   "version": "2.7.12"
  }
 },
 "nbformat": 4,
 "nbformat_minor": 2
}
