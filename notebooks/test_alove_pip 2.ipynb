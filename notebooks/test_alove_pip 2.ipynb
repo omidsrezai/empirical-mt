{
 "cells": [
  {
   "cell_type": "code",
   "execution_count": 2,
   "metadata": {
    "scrolled": true
   },
   "outputs": [],
   "source": [
    "import tensorflow as tf\n",
    "import sys\n",
    "sys.path.insert(0, '/home/ading/dev/empirical-mt')\n",
    "sys.path.insert(0, '/home/ading/dev/pyflow/')\n",
    "\n",
    "from skimage import io, img_as_ubyte, color\n",
    "import numpy as np\n",
    "\n",
    "\n",
    "import matplotlib.pyplot as plt\n",
    "\n",
    "from visual_tracking.utils.seq_est_contrast_flow_input_pip2 import SeqEstimatorOpticFlowInputFunc\n",
    "\n",
    "import pandas as pd\n",
    "\n",
    "import numpy as np\n",
    "import pyflow\n",
    "\n",
    "import cv2"
   ]
  },
  {
   "cell_type": "code",
   "execution_count": 2,
   "metadata": {
    "scrolled": true
   },
   "outputs": [
    {
     "name": "stdout",
     "output_type": "stream",
     "text": [
      "<TensorSliceDataset shapes: ((), (), (), ()), types: (tf.string, tf.string, tf.int32, tf.int32)>\n",
      "intput pipline initilized, input_shpae=(TensorShape(None), TensorShape(None)), input_dtype=(tf.float32, tf.float32)\n"
     ]
    }
   ],
   "source": [
    "ne = SixFrameInputFuncBase(dataset_index_filepath='../data/alov300++/alov300_test.csv', input_path='../', batch_size=5, shuffle_buffer_size=8196, cache_id=None)()"
   ]
  },
  {
   "cell_type": "code",
   "execution_count": 5,
   "metadata": {
    "scrolled": true
   },
   "outputs": [
    {
     "name": "stdout",
     "output_type": "stream",
     "text": [
      "WARNING:tensorflow:../input/ALOV300++/alov300++_rectangleAnnotation_full/06-MotionSmoothness/06-MotionSmoothness_video00018.ann id 141 to id 143 has non-standard annotations\n",
      "WARNING:tensorflow:../input/ALOV300++/alov300++_rectangleAnnotation_full/05-Shape/05-Shape_video00007.ann id 146 to id 150 has non-standard annotations\n"
     ]
    }
   ],
   "source": [
    "rs = []\n",
    "\n",
    "with tf.Session(config=tf.ConfigProto(device_count={'GPU': 0})) as sess:\n",
    "    i = 0\n",
    "    while i < 1:\n",
    "        i = i + 1\n",
    "        try:\n",
    "            r = sess.run(ne)\n",
    "        except tf.errors.OutOfRangeError:\n",
    "            break\n",
    "            \n",
    "    rs.append(r)     "
   ]
  },
  {
   "cell_type": "code",
   "execution_count": 4,
   "metadata": {},
   "outputs": [
    {
     "name": "stdout",
     "output_type": "stream",
     "text": [
      "<TensorSliceDataset shapes: ((), (), (), ()), types: (tf.string, tf.string, tf.int32, tf.int32)>\n",
      "intput pipline initilized, input_shpae=({'frames': TensorShape([Dimension(None), Dimension(6), Dimension(76), Dimension(76), Dimension(3)]), 'mask': TensorShape([Dimension(None), Dimension(76), Dimension(76)]), 'direction': TensorShape([Dimension(None), Dimension(5), Dimension(76), Dimension(76)]), 'speed': TensorShape([Dimension(None), Dimension(5), Dimension(76), Dimension(76)]), 'bbox': TensorShape([Dimension(None), Dimension(4)])}, TensorShape([Dimension(None), Dimension(4)])), input_dtype=({'frames': tf.float32, 'speed': tf.float32, 'direction': tf.float32, 'mask': tf.float32, 'bbox': tf.float32}, tf.float32)\n"
     ]
    }
   ],
   "source": [
    "ne = SeqEstimatorOpticFlowInputFunc(dataset_index_filepath='../data/alov300++/alov300_test.csv', input_path='../', batch_size=100, shuffle_buffer_size=8196, flow_method='fb', cache_path='../', cache_id='test_seq_shuffled_fixed', n_workers=4, fixed_input_dim=76, num_epochs=1)()"
   ]
  },
  {
   "cell_type": "code",
   "execution_count": 5,
   "metadata": {},
   "outputs": [
    {
     "name": "stdout",
     "output_type": "stream",
     "text": [
      "WARNING:tensorflow:../input/ALOV300++/alov300++_rectangleAnnotation_full/02-SurfaceCover/02-SurfaceCover_video00008.ann id 146 to id 150 has non-standard annotations\n",
      "WARNING:tensorflow:../input/ALOV300++/alov300++_rectangleAnnotation_full/13-ZoomingCamera/13-ZoomingCamera_video00010.ann id 336 to id 340 has non-standard annotations\n",
      "WARNING:tensorflow:../input/ALOV300++/alov300++_rectangleAnnotation_full/09-Confusion/09-Confusion_video00030.ann id 115 to id 119 has non-standard annotations\n",
      "WARNING:tensorflow:../input/ALOV300++/alov300++_rectangleAnnotation_full/13-ZoomingCamera/13-ZoomingCamera_video00014.ann id 81 to id 83 has non-standard annotations\n",
      "WARNING:tensorflow:../input/ALOV300++/alov300++_rectangleAnnotation_full/06-MotionSmoothness/06-MotionSmoothness_video00001.ann id 296 to id 300 has non-standard annotations\n",
      "WARNING:tensorflow:../input/ALOV300++/alov300++_rectangleAnnotation_full/12-MovingCamera/12-MovingCamera_video00008.ann id 176 to id 180 has non-standard annotations\n",
      "WARNING:tensorflow:../input/ALOV300++/alov300++_rectangleAnnotation_full/04-Transparency/04-Transparency_video00008.ann id 170 to id 171 has non-standard annotations\n",
      "WARNING:tensorflow:../input/ALOV300++/alov300++_rectangleAnnotation_full/05-Shape/05-Shape_video00012.ann id 134 to id 136 has non-standard annotations\n",
      "WARNING:tensorflow:../input/ALOV300++/alov300++_rectangleAnnotation_full/05-Shape/05-Shape_video00012.ann id 201 to id 202 has non-standard annotations\n",
      "WARNING:tensorflow:../input/ALOV300++/alov300++_rectangleAnnotation_full/12-MovingCamera/12-MovingCamera_video00012.ann id 356 to id 360 has non-standard annotations\n",
      "WARNING:tensorflow:../input/ALOV300++/alov300++_rectangleAnnotation_full/07-MotionCoherence/07-MotionCoherence_video00006.ann id 145 to id 148 has non-standard annotations\n",
      "WARNING:tensorflow:../input/ALOV300++/alov300++_rectangleAnnotation_full/03-Specularity/03-Specularity_video00012.ann id 301 to id 302 has non-standard annotations\n",
      "WARNING:tensorflow:../input/ALOV300++/alov300++_rectangleAnnotation_full/11-Occlusion/11-Occlusion_video00016.ann id 337 to id 340 has non-standard annotations\n"
     ]
    },
    {
     "name": "stderr",
     "output_type": "stream",
     "text": [
      "/home/ading/.local/lib/python2.7/site-packages/skimage/transform/_warps.py:24: UserWarning: The default multichannel argument (None) is deprecated.  Please specify either True or False explicitly.  multichannel will default to False starting with release 0.16.\n",
      "  warn('The default multichannel argument (None) is deprecated.  Please '\n",
      "/home/ading/.local/lib/python2.7/site-packages/skimage/transform/_warps.py:105: UserWarning: The default mode, 'constant', will be changed to 'reflect' in skimage 0.15.\n",
      "  warn(\"The default mode, 'constant', will be changed to 'reflect' in \"\n",
      "/home/ading/.local/lib/python2.7/site-packages/skimage/util/dtype.py:130: UserWarning: Possible precision loss when converting from float64 to uint8\n",
      "  .format(dtypeobj_in, dtypeobj_out))\n"
     ]
    },
    {
     "name": "stdout",
     "output_type": "stream",
     "text": [
      "1\n",
      "2\n",
      "3\n",
      "4\n",
      "5\n",
      "6\n",
      "7\n",
      "8\n",
      "9\n",
      "10\n",
      "11\n",
      "12\n",
      "13\n",
      "14\n",
      "15\n"
     ]
    }
   ],
   "source": [
    "rs = []\n",
    "\n",
    "with tf.Session(config=tf.ConfigProto(device_count={'GPU': 0})) as sess:\n",
    "    i = 0\n",
    "    while True:\n",
    "        i = i + 1\n",
    "        try:\n",
    "            r = sess.run(ne)\n",
    "        except tf.errors.OutOfRangeError:\n",
    "            break\n",
    "        \n",
    "        print(i)  "
   ]
  },
  {
   "cell_type": "code",
   "execution_count": 1,
   "metadata": {},
   "outputs": [
    {
     "data": {
      "text/plain": [
       "5184"
      ]
     },
     "execution_count": 1,
     "metadata": {},
     "output_type": "execute_result"
    }
   ],
   "source": []
  }
 ],
 "metadata": {
  "kernelspec": {
   "display_name": "Python 2",
   "language": "python",
   "name": "python2"
  },
  "language_info": {
   "codemirror_mode": {
    "name": "ipython",
    "version": 2
   },
   "file_extension": ".py",
   "mimetype": "text/x-python",
   "name": "python",
   "nbconvert_exporter": "python",
   "pygments_lexer": "ipython2",
   "version": "2.7.12"
  }
 },
 "nbformat": 4,
 "nbformat_minor": 2
}
