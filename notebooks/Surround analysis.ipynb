{
 "cells": [
  {
   "cell_type": "code",
   "execution_count": 1,
   "metadata": {},
   "outputs": [
    {
     "name": "stderr",
     "output_type": "stream",
     "text": [
      "Using TensorFlow backend.\n"
     ]
    }
   ],
   "source": [
    "import tensorflow as tf\n",
    "import sys\n",
    "sys.path.insert(0, '/home/ading/dev/empirical-mt')\n",
    "sys.path.insert(0, '/home/ading/dev/pyflow/')\n",
    "\n",
    "from skimage import io, img_as_ubyte, color, draw\n",
    "import numpy as np\n",
    "\n",
    "\n",
    "import matplotlib.pyplot as plt\n",
    "\n",
    "from visual_tracking.utils import est_contrast_flow_input_pip\n",
    "\n",
    "import pandas as pd\n",
    "\n",
    "import numpy as np\n",
    "import pyflow\n",
    "\n",
    "import cv2\n",
    "\n",
    "from tqdm import tqdm\n",
    "\n",
    "from scipy.stats.stats import pearsonr \n",
    "\n",
    "from datetime import datetime\n",
    "from time import time\n",
    "import sys\n",
    "from os import path\n",
    "\n",
    "sys.path.insert(0, '/home/ading/dev/empirical-mt')\n",
    "\n",
    "from visual_tracking.model.alov300_model_omid_mt2 import MTTracker\n",
    "from visual_tracking.model.mt_mst_visual_tracker import MTMSTPairwiseTracker\n",
    "from visual_tracking.model.mt_mst_sequence_tracker import MTMSTSeqTracker\n",
    "from visual_tracking.utils.est_contrast_flow_input_pip import EstimatorOpticFlowInputFunc\n",
    "\n",
    "\n",
    "# import the inspect_checkpoint library\n",
    "from tensorflow.python.tools import inspect_checkpoint as chkp"
   ]
  },
  {
   "cell_type": "code",
   "execution_count": 10,
   "metadata": {},
   "outputs": [],
   "source": [
    "cp_name = \"../models_mt_mst_seq_test/alov300/test_s=4_07-12-05-31-51\"\n",
    "ts = ['mt_over_time/time_map_area_mt/area_mt/excitatory/chann_sel_conv2d/conv2d/kernel_smart',\n",
    "      'mt_over_time/time_map_area_mt/area_mt/dir_sel_sup/chann_sel_conv2d/conv2d/kernel_smart',\n",
    "      'mt_over_time/time_map_area_mt/area_mt/non_dir_sel_sup/chann_sel_conv2d/conv2d/kernel_smart',\n",
    "      #'mt_over_time/time_map_area_mt/area_mt/sp_tun_dir_sel_sup/sp_tun_dir_sel_sup/combine_sp',\n",
    "     #'mt_over_time/time_map_area_mt/area_mt/sp_tun_non_dir_sel_sup/sp_tun_non_dir_sel_sup/combine_sp',\n",
    "      'mt_over_time/time_map_area_mt/area_mt/dir_sel_sup/chann_sel_conv2d/conv2d/selector',\n",
    "      'mt_over_time/time_map_area_mt/area_mt/excitatory/chann_sel_conv2d/conv2d/selector',\n",
    "      'mt_over_time/time_map_area_mt/area_mt/non_dir_sel_sup/chann_sel_conv2d/conv2d/selector']\n",
    "ws = []\n",
    "\n",
    "to_save = {}"
   ]
  },
  {
   "cell_type": "code",
   "execution_count": 11,
   "metadata": {},
   "outputs": [
    {
     "name": "stdout",
     "output_type": "stream",
     "text": [
      "INFO:tensorflow:Using default config.\n",
      "INFO:tensorflow:Using config: {'_save_checkpoints_secs': 600, '_session_config': None, '_keep_checkpoint_max': 5, '_task_type': 'worker', '_is_chief': True, '_cluster_spec': <tensorflow.python.training.server_lib.ClusterSpec object at 0x7f3d171c4710>, '_save_checkpoints_steps': None, '_keep_checkpoint_every_n_hours': 10000, '_service': None, '_num_ps_replicas': 0, '_tf_random_seed': None, '_master': '', '_num_worker_replicas': 1, '_task_id': 0, '_log_step_count_steps': 100, '_model_dir': '../models_mt_mst_seq_test/alov300/test_s=4_07-12-05-31-51', '_save_summary_steps': 100}\n"
     ]
    }
   ],
   "source": [
    "model_fn = MTMSTSeqTracker(mt_params_path='../params_MT_654.pkl', speed_scalar=4)\n",
    "m = tf.estimator.Estimator(model_fn, model_dir=cp_name)"
   ]
  },
  {
   "cell_type": "code",
   "execution_count": 13,
   "metadata": {
    "scrolled": false
   },
   "outputs": [
    {
     "name": "stdout",
     "output_type": "stream",
     "text": [
      "(15, 15, 64, 64)\n",
      "(15, 15, 64, 64)\n",
      "(15, 15, 64, 64)\n",
      "(64,)\n",
      "(64,)\n",
      "(64,)\n"
     ]
    }
   ],
   "source": [
    "for t in ts:\n",
    "    w =  m.get_variable_value(t)\n",
    "    to_save[t] = w\n",
    "    print(w.shape)\n",
    "    \n",
    "np.savez('weights/%s_weights' % path.basename(cp_name), **to_save)"
   ]
  }
 ],
 "metadata": {
  "kernelspec": {
   "display_name": "Python 2",
   "language": "python",
   "name": "python2"
  },
  "language_info": {
   "codemirror_mode": {
    "name": "ipython",
    "version": 2
   },
   "file_extension": ".py",
   "mimetype": "text/x-python",
   "name": "python",
   "nbconvert_exporter": "python",
   "pygments_lexer": "ipython2",
   "version": "2.7.12"
  }
 },
 "nbformat": 4,
 "nbformat_minor": 2
}
