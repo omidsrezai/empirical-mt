{
 "cells": [
  {
   "cell_type": "code",
   "execution_count": 1,
   "metadata": {
    "scrolled": true
   },
   "outputs": [],
   "source": [
    "import tensorflow as tf\n",
    "import sys\n",
    "sys.path.insert(0, '/home/ading/dev/empirical-mt')\n",
    "sys.path.insert(0, '/home/ading/dev/pyflow/')\n",
    "\n",
    "from skimage import io, img_as_ubyte, color, draw\n",
    "import numpy as np\n",
    "\n",
    "\n",
    "import matplotlib.pyplot as plt\n",
    "\n",
    "from visual_tracking.utils import est_contrast_flow_input_pip\n",
    "\n",
    "import pandas as pd\n",
    "\n",
    "import numpy as np\n",
    "import pyflow\n",
    "\n",
    "import cv2"
   ]
  },
  {
   "cell_type": "code",
   "execution_count": 2,
   "metadata": {},
   "outputs": [
    {
     "name": "stdout",
     "output_type": "stream",
     "text": [
      "<TensorSliceDataset shapes: ((), (), (), ()), types: (tf.string, tf.string, tf.int32, tf.int32)>\n",
      "intput pipline initilized, input_shpae=({'box': TensorShape([Dimension(None), Dimension(4)]), 'frame2': TensorShape([Dimension(None), Dimension(76), Dimension(76), Dimension(3)]), 'frame1': TensorShape([Dimension(None), Dimension(76), Dimension(76), Dimension(3)]), 'speed': TensorShape([Dimension(None), Dimension(76), Dimension(76)]), 'direction': TensorShape([Dimension(None), Dimension(76), Dimension(76)])}, TensorShape([Dimension(None), Dimension(4)])), input_dtype=({'box': tf.float32, 'frame2': tf.float32, 'frame1': tf.float32, 'speed': tf.float32, 'direction': tf.float32}, tf.float32)\n"
     ]
    }
   ],
   "source": [
    "ne = est_contrast_flow_input_pip.EstimatorOpticFlowInputFunc(dataset_index_filepath='../data/alov300++/alov300_train.csv', input_path='../', fixed_input_dim=76, batch_size=64, num_epochs=1, shuffle_buffer_size=64)()"
   ]
  },
  {
   "cell_type": "code",
   "execution_count": 3,
   "metadata": {},
   "outputs": [
    {
     "name": "stderr",
     "output_type": "stream",
     "text": [
      "/home/ading/.local/lib/python2.7/site-packages/skimage/transform/_warps.py:24: UserWarning: The default multichannel argument (None) is deprecated.  Please specify either True or False explicitly.  multichannel will default to False starting with release 0.16.\n",
      "  warn('The default multichannel argument (None) is deprecated.  Please '\n",
      "/home/ading/.local/lib/python2.7/site-packages/skimage/transform/_warps.py:105: UserWarning: The default mode, 'constant', will be changed to 'reflect' in skimage 0.15.\n",
      "  warn(\"The default mode, 'constant', will be changed to 'reflect' in \"\n",
      "/home/ading/.local/lib/python2.7/site-packages/skimage/util/dtype.py:130: UserWarning: Possible precision loss when converting from float64 to uint8\n",
      "  .format(dtypeobj_in, dtypeobj_out))\n"
     ]
    },
    {
     "name": "stdout",
     "output_type": "stream",
     "text": [
      "--- 11.403263092 seconds ---\n"
     ]
    }
   ],
   "source": [
    "import time\n",
    "start_time = time.time()\n",
    "\n",
    "with tf.Session() as sess:\n",
    "    for _ in range(0, 1): \n",
    "        r = sess.run(ne)\n",
    "\n",
    "print(\"--- %s seconds ---\" % (time.time() - start_time))"
   ]
  },
  {
   "cell_type": "code",
   "execution_count": 4,
   "metadata": {},
   "outputs": [
    {
     "data": {
      "text/plain": [
       "6"
      ]
     },
     "execution_count": 4,
     "metadata": {},
     "output_type": "execute_result"
    }
   ],
   "source": [
    "308 / 50"
   ]
  },
  {
   "cell_type": "code",
   "execution_count": 7,
   "metadata": {},
   "outputs": [
    {
     "data": {
      "text/plain": [
       "0.8583333333333333"
      ]
     },
     "execution_count": 7,
     "metadata": {},
     "output_type": "execute_result"
    }
   ],
   "source": [
    "33000 / 64 * 6 / 3600."
   ]
  }
 ],
 "metadata": {
  "kernelspec": {
   "display_name": "Python 2",
   "language": "python",
   "name": "python2"
  },
  "language_info": {
   "codemirror_mode": {
    "name": "ipython",
    "version": 2
   },
   "file_extension": ".py",
   "mimetype": "text/x-python",
   "name": "python",
   "nbconvert_exporter": "python",
   "pygments_lexer": "ipython2",
   "version": "2.7.12"
  }
 },
 "nbformat": 4,
 "nbformat_minor": 2
}
